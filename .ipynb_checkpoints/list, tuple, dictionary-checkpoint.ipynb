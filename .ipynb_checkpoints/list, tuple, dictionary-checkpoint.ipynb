{
 "cells": [
  {
   "cell_type": "code",
   "execution_count": 1,
   "metadata": {},
   "outputs": [
    {
     "name": "stdout",
     "output_type": "stream",
     "text": [
      "0\n",
      "1\n",
      "2\n",
      "3\n",
      "4\n",
      "5\n",
      "6\n",
      "7\n",
      "8\n",
      "9\n"
     ]
    }
   ],
   "source": [
    "#SINTAKS FOR\n",
    "for i in range(0,10):\n",
    "    print(i)"
   ]
  },
  {
   "cell_type": "code",
   "execution_count": 2,
   "metadata": {},
   "outputs": [
    {
     "name": "stdout",
     "output_type": "stream",
     "text": [
      "0\n",
      "1\n",
      "2\n",
      "3\n",
      "4\n",
      "5\n",
      "6\n",
      "7\n",
      "8\n",
      "9\n"
     ]
    }
   ],
   "source": [
    "#SINTAKS WHILE\n",
    "i = 0\n",
    "while i<10:\n",
    "    print(i)\n",
    "    i = i + 1"
   ]
  },
  {
   "cell_type": "code",
   "execution_count": 3,
   "metadata": {},
   "outputs": [
    {
     "name": "stdout",
     "output_type": "stream",
     "text": [
      "[30, 40, 50, 60, 70, 80, 90]\n"
     ]
    }
   ],
   "source": [
    "# 2. List\n",
    "# Deklarasi List\n",
    "nilai = [30,40,50,60,70,80,90]\n",
    "print(nilai)"
   ]
  },
  {
   "cell_type": "code",
   "execution_count": 4,
   "metadata": {},
   "outputs": [
    {
     "name": "stdout",
     "output_type": "stream",
     "text": [
      "['Ani', 'Budi', 'Catra', 'Desi']\n"
     ]
    }
   ],
   "source": [
    "#Dapat berisi String\n",
    "peserta = ['Ani','Budi','Catra','Desi']\n",
    "print(peserta)"
   ]
  },
  {
   "cell_type": "code",
   "execution_count": 5,
   "metadata": {},
   "outputs": [
    {
     "name": "stdout",
     "output_type": "stream",
     "text": [
      "['Big', 2.5, 90, 'Data']\n"
     ]
    }
   ],
   "source": [
    "#Dapat juga berisi campuran tipe data\n",
    "campuran = ['Big',2.5, 90, 'Data']\n",
    "print(campuran)"
   ]
  },
  {
   "cell_type": "code",
   "execution_count": 6,
   "metadata": {},
   "outputs": [
    {
     "name": "stdout",
     "output_type": "stream",
     "text": [
      "30\n",
      "40\n",
      "60\n",
      "80\n"
     ]
    }
   ],
   "source": [
    "## 2.1 List Index\n",
    "print(nilai[0])\n",
    "print(nilai[1])\n",
    "print(nilai[-4])\n",
    "print(nilai[-2])"
   ]
  },
  {
   "cell_type": "markdown",
   "metadata": {},
   "source": [
    "### 2.2 Menambah Elemen ke Dalam List"
   ]
  },
  {
   "cell_type": "code",
   "execution_count": 7,
   "metadata": {},
   "outputs": [],
   "source": [
    "nilai.append(40)"
   ]
  },
  {
   "cell_type": "code",
   "execution_count": 8,
   "metadata": {},
   "outputs": [
    {
     "name": "stdout",
     "output_type": "stream",
     "text": [
      "[30, 40, 50, 60, 70, 80, 90, 40]\n"
     ]
    }
   ],
   "source": [
    "print(nilai)"
   ]
  },
  {
   "cell_type": "markdown",
   "metadata": {},
   "source": [
    "### 2.3 Slicing List"
   ]
  },
  {
   "cell_type": "code",
   "execution_count": 20,
   "metadata": {},
   "outputs": [
    {
     "name": "stdout",
     "output_type": "stream",
     "text": [
      "[50, 60, 70]\n"
     ]
    }
   ],
   "source": [
    "print(nilai[2:5]) #elemen ke 3 sampai 5"
   ]
  },
  {
   "cell_type": "code",
   "execution_count": 19,
   "metadata": {},
   "outputs": [
    {
     "name": "stdout",
     "output_type": "stream",
     "text": [
      "[50]\n"
     ]
    }
   ],
   "source": [
    "print(nilai[-6:-5]) \n"
   ]
  },
  {
   "cell_type": "code",
   "execution_count": 25,
   "metadata": {},
   "outputs": [
    {
     "name": "stdout",
     "output_type": "stream",
     "text": [
      "[30, 40, 50]\n"
     ]
    }
   ],
   "source": [
    "print(nilai[:-5]) #dari belakang sampai 5 terakhir"
   ]
  },
  {
   "cell_type": "code",
   "execution_count": 17,
   "metadata": {},
   "outputs": [
    {
     "name": "stdout",
     "output_type": "stream",
     "text": [
      "[80, 90, 40]\n"
     ]
    }
   ],
   "source": [
    "print(nilai[5:])"
   ]
  },
  {
   "cell_type": "code",
   "execution_count": 18,
   "metadata": {},
   "outputs": [
    {
     "name": "stdout",
     "output_type": "stream",
     "text": [
      "[30, 40, 50, 60, 70, 80, 90, 40]\n"
     ]
    }
   ],
   "source": [
    "print(nilai[:])"
   ]
  },
  {
   "cell_type": "markdown",
   "metadata": {},
   "source": [
    "### 2.4 Perulangan dalam List"
   ]
  },
  {
   "cell_type": "code",
   "execution_count": 26,
   "metadata": {},
   "outputs": [
    {
     "name": "stdout",
     "output_type": "stream",
     "text": [
      "30\n",
      "40\n",
      "50\n",
      "60\n",
      "70\n",
      "80\n",
      "90\n",
      "40\n"
     ]
    }
   ],
   "source": [
    "for n in nilai:\n",
    "    print(n)"
   ]
  },
  {
   "cell_type": "code",
   "execution_count": 27,
   "metadata": {},
   "outputs": [
    {
     "name": "stdout",
     "output_type": "stream",
     "text": [
      "57.5\n"
     ]
    }
   ],
   "source": [
    "# ALGORITMA RATA-RATA\n",
    "total = 0\n",
    "for n in nilai:\n",
    "    total = total + n\n",
    "    \n",
    "rata = total / len(nilai)\n",
    "print(rata)"
   ]
  },
  {
   "cell_type": "markdown",
   "metadata": {},
   "source": [
    "### Lookup Nilai dalam List"
   ]
  },
  {
   "cell_type": "code",
   "execution_count": 34,
   "metadata": {},
   "outputs": [
    {
     "name": "stdout",
     "output_type": "stream",
     "text": [
      "95 tidak ada dalam list\n"
     ]
    }
   ],
   "source": [
    "n = 95\n",
    "if n in nilai:\n",
    "    print(n, \"ada dalam list\")\n",
    "else:\n",
    "    print(n, \"tidak ada dalam list\")"
   ]
  },
  {
   "cell_type": "markdown",
   "metadata": {},
   "source": [
    "### using index"
   ]
  },
  {
   "cell_type": "code",
   "execution_count": 41,
   "metadata": {},
   "outputs": [
    {
     "name": "stdout",
     "output_type": "stream",
     "text": [
      "30\n",
      "40\n",
      "50\n",
      "60\n",
      "70\n",
      "80\n",
      "90\n",
      "40\n",
      "0 30\n",
      "1 40\n",
      "2 50\n",
      "3 60\n",
      "4 70\n",
      "5 80\n",
      "6 90\n",
      "7 40\n"
     ]
    }
   ],
   "source": [
    "for n in nilai:\n",
    "    print (n)\n",
    "#depan index, belakang nilai\n",
    "for i,n in enumerate(nilai):\n",
    "    print(i,n)\n",
    "    "
   ]
  },
  {
   "cell_type": "markdown",
   "metadata": {},
   "source": [
    "### 2.5 Latihan"
   ]
  },
  {
   "cell_type": "code",
   "execution_count": 43,
   "metadata": {},
   "outputs": [
    {
     "name": "stdout",
     "output_type": "stream",
     "text": [
      "57.5\n"
     ]
    }
   ],
   "source": [
    "#Tampilkan Nilai yang Lebih dari sama dengan rata-ratanya\n",
    "print(rata)"
   ]
  },
  {
   "cell_type": "code",
   "execution_count": 48,
   "metadata": {},
   "outputs": [
    {
     "name": "stdout",
     "output_type": "stream",
     "text": [
      "[60, 70, 80, 90]\n"
     ]
    }
   ],
   "source": [
    "result = []\n",
    "\n",
    "for n in nilai:\n",
    "    if n >= rata: result.append(n)\n",
    "print(result)"
   ]
  },
  {
   "cell_type": "markdown",
   "metadata": {},
   "source": [
    "## 3. Tuple"
   ]
  },
  {
   "cell_type": "code",
   "execution_count": 49,
   "metadata": {},
   "outputs": [
    {
     "name": "stdout",
     "output_type": "stream",
     "text": [
      "('Januari', 'Februari', 'Maret', 'April', 'Mei', 'Juni', 'Juli', 'Agustus', 'September', 'Oktober', 'November', 'Desember')\n"
     ]
    }
   ],
   "source": [
    "# Deklarasi Tuple\n",
    "bulan = (\"Januari\",\"Februari\",\"Maret\",\"April\",\"Mei\",\"Juni\",\"Juli\",\"Agustus\",\"September\",\"Oktober\",\"November\",\"Desember\")\n",
    "print(bulan)"
   ]
  },
  {
   "cell_type": "markdown",
   "metadata": {},
   "source": [
    "### 3.1 Akses Elemen dan Slicing"
   ]
  },
  {
   "cell_type": "code",
   "execution_count": 50,
   "metadata": {},
   "outputs": [
    {
     "name": "stdout",
     "output_type": "stream",
     "text": [
      "Januari\n",
      "Mei\n",
      "Desember\n",
      "Oktober\n"
     ]
    }
   ],
   "source": [
    "print(bulan[0])\n",
    "print(bulan[4])\n",
    "print(bulan[-1])\n",
    "print(bulan[-3])"
   ]
  },
  {
   "cell_type": "code",
   "execution_count": 51,
   "metadata": {},
   "outputs": [
    {
     "name": "stdout",
     "output_type": "stream",
     "text": [
      "('Maret', 'April', 'Mei')\n",
      "('Januari', 'Februari', 'Maret', 'April', 'Mei', 'Juni', 'Juli')\n",
      "('Juni', 'Juli', 'Agustus', 'September', 'Oktober', 'November', 'Desember')\n",
      "('Januari', 'Februari', 'Maret', 'April', 'Mei', 'Juni', 'Juli', 'Agustus', 'September', 'Oktober', 'November', 'Desember')\n"
     ]
    }
   ],
   "source": [
    "print(bulan[2:5])\n",
    "\n",
    "print(bulan[:-5])\n",
    "\n",
    "print(bulan[5:])\n",
    "\n",
    "print(bulan[:])"
   ]
  },
  {
   "cell_type": "markdown",
   "metadata": {},
   "source": [
    "### 3.2 perulangan dalam tuple"
   ]
  },
  {
   "cell_type": "code",
   "execution_count": 53,
   "metadata": {},
   "outputs": [
    {
     "name": "stdout",
     "output_type": "stream",
     "text": [
      "Januari\n",
      "Februari\n",
      "Maret\n",
      "April\n",
      "Mei\n",
      "Juni\n",
      "Juli\n",
      "Agustus\n",
      "September\n",
      "Oktober\n",
      "November\n",
      "Desember\n"
     ]
    }
   ],
   "source": [
    "for b in bulan:\n",
    "    print(b)"
   ]
  },
  {
   "cell_type": "markdown",
   "metadata": {},
   "source": [
    "## 4. Dictionary"
   ]
  },
  {
   "cell_type": "markdown",
   "metadata": {},
   "source": [
    "### 4.1 Membuat dan Mengakses Dictionary"
   ]
  },
  {
   "cell_type": "code",
   "execution_count": 57,
   "metadata": {},
   "outputs": [
    {
     "name": "stdout",
     "output_type": "stream",
     "text": [
      "{'Nama': 'Budi', 'Umur': 7, 'JenisKelamin': 'Laki-Laki'}\n",
      "Budi\n",
      "7\n",
      "Laki-Laki\n"
     ]
    }
   ],
   "source": [
    "#syntax key:value\n",
    "siswa = {'Nama': 'Budi', 'Umur': 7, 'JenisKelamin': 'Laki-Laki'}\n",
    "siswa2 = {'Nama': 'Ani', 'Umur': 8, 'JenisKelamin': 'Perempuan'}\n",
    "print(siswa)\n",
    "print(siswa['Nama'])\n",
    "print(siswa['Umur'])\n",
    "print(siswa['JenisKelamin'])"
   ]
  },
  {
   "cell_type": "code",
   "execution_count": 58,
   "metadata": {},
   "outputs": [],
   "source": [
    "list_siswa = []\n",
    "list_siswa.append(siswa)\n",
    "list_siswa.append(siswa2)"
   ]
  },
  {
   "cell_type": "code",
   "execution_count": 59,
   "metadata": {},
   "outputs": [
    {
     "name": "stdout",
     "output_type": "stream",
     "text": [
      "[{'Nama': 'Budi', 'Umur': 7, 'JenisKelamin': 'Laki-Laki'}, {'Nama': 'Ani', 'Umur': 8, 'JenisKelamin': 'Perempuan'}]\n"
     ]
    }
   ],
   "source": [
    "print(list_siswa)"
   ]
  },
  {
   "cell_type": "code",
   "execution_count": 62,
   "metadata": {},
   "outputs": [
    {
     "name": "stdout",
     "output_type": "stream",
     "text": [
      "{'Nama': 'Budi', 'Umur': 7, 'JenisKelamin': 'Laki-Laki'}\n"
     ]
    }
   ],
   "source": [
    "print(list_siswa[0])"
   ]
  },
  {
   "cell_type": "code",
   "execution_count": 63,
   "metadata": {},
   "outputs": [
    {
     "name": "stdout",
     "output_type": "stream",
     "text": [
      "7\n"
     ]
    }
   ],
   "source": [
    "print(list_siswa[0]['Umur'])"
   ]
  },
  {
   "cell_type": "code",
   "execution_count": 67,
   "metadata": {},
   "outputs": [],
   "source": [
    "siswa2['Nama'] = 'Nani' #ketika diubah, list juga berubah"
   ]
  },
  {
   "cell_type": "code",
   "execution_count": 65,
   "metadata": {},
   "outputs": [
    {
     "name": "stdout",
     "output_type": "stream",
     "text": [
      "{'Nama': 'Nani', 'Umur': 8, 'JenisKelamin': 'Perempuan'}\n"
     ]
    }
   ],
   "source": [
    "print(siswa2)"
   ]
  },
  {
   "cell_type": "code",
   "execution_count": 76,
   "metadata": {},
   "outputs": [
    {
     "name": "stdout",
     "output_type": "stream",
     "text": [
      "[{'Nama': 'Budi', 'Umur': 7, 'JenisKelamin': 'Laki-Laki', 'Alamat': 'Jl. Kaliurang KM 5', 'Nilai': [30, 40, 50, 60, 70, 80, 90, 40]}, {'Nama': 'Nani', 'Umur': 8, 'JenisKelamin': 'Perempuan'}]\n"
     ]
    }
   ],
   "source": [
    "print(list_siswa)"
   ]
  },
  {
   "cell_type": "markdown",
   "metadata": {},
   "source": [
    "### 4.3 Menambahkan Elemen"
   ]
  },
  {
   "cell_type": "code",
   "execution_count": 69,
   "metadata": {},
   "outputs": [
    {
     "name": "stdout",
     "output_type": "stream",
     "text": [
      "{'Nama': 'Budi', 'Umur': 7, 'JenisKelamin': 'Laki-Laki', 'Alamat': 'Jl. Kaliurang KM 5'}\n"
     ]
    }
   ],
   "source": [
    "siswa['Alamat'] = \"Jl. Kaliurang KM 5\"\n",
    "print(siswa)"
   ]
  },
  {
   "cell_type": "code",
   "execution_count": 74,
   "metadata": {},
   "outputs": [
    {
     "name": "stdout",
     "output_type": "stream",
     "text": [
      "[{'Nama': 'Budi', 'Umur': 7, 'JenisKelamin': 'Laki-Laki', 'Alamat': 'Jl. Kaliurang KM 5'}, {'Nama': 'Nani', 'Umur': 8, 'JenisKelamin': 'Perempuan'}]\n"
     ]
    }
   ],
   "source": [
    "print(list_siswa)"
   ]
  },
  {
   "cell_type": "code",
   "execution_count": 75,
   "metadata": {},
   "outputs": [
    {
     "name": "stdout",
     "output_type": "stream",
     "text": [
      "{'Nama': 'Budi', 'Umur': 7, 'JenisKelamin': 'Laki-Laki', 'Alamat': 'Jl. Kaliurang KM 5', 'Nilai': [30, 40, 50, 60, 70, 80, 90, 40]}\n"
     ]
    }
   ],
   "source": [
    "# List sebagai nilai dari elemen Dictionary\n",
    "siswa[\"Nilai\"] = nilai\n",
    "print(siswa)"
   ]
  },
  {
   "cell_type": "code",
   "execution_count": 80,
   "metadata": {},
   "outputs": [
    {
     "name": "stdout",
     "output_type": "stream",
     "text": [
      "50\n"
     ]
    }
   ],
   "source": [
    "print(list_siswa[0]['Nilai'][2])"
   ]
  },
  {
   "cell_type": "code",
   "execution_count": 85,
   "metadata": {},
   "outputs": [
    {
     "name": "stdout",
     "output_type": "stream",
     "text": [
      "Nama Budi\n",
      "Umur 7\n",
      "JenisKelamin Laki-Laki\n",
      "Alamat Jl. Kaliurang KM 5\n",
      "Nilai [30, 40, 50, 60, 70, 80, 90, 40]\n"
     ]
    }
   ],
   "source": [
    "for k,v in siswa.items(): #iterate item, value\n",
    "    print(k,v)"
   ]
  },
  {
   "cell_type": "code",
   "execution_count": 90,
   "metadata": {},
   "outputs": [
    {
     "name": "stdout",
     "output_type": "stream",
     "text": [
      "==============\n",
      "Nama Budi\n",
      "Umur 7\n",
      "JenisKelamin Laki-Laki\n",
      "Alamat Jl. Kaliurang KM 5\n",
      "Nilai [30, 40, 50, 60, 70, 80, 90, 40]\n",
      "==============\n",
      "Nama Nani\n",
      "Umur 8\n",
      "JenisKelamin Perempuan\n"
     ]
    }
   ],
   "source": [
    "#loop list of dictionary\n",
    "for l in list_siswa: \n",
    "    print(\"==============\")\n",
    "    for k,v in l.items():\n",
    "        print(k,v)"
   ]
  },
  {
   "cell_type": "markdown",
   "metadata": {},
   "source": [
    "## 5. Operasi String"
   ]
  },
  {
   "cell_type": "markdown",
   "metadata": {},
   "source": [
    "### 5.1 Slicing dan Akses per Karakter"
   ]
  },
  {
   "cell_type": "code",
   "execution_count": 77,
   "metadata": {},
   "outputs": [
    {
     "name": "stdout",
     "output_type": "stream",
     "text": [
      "Tutori\n",
      "ograman Py\n"
     ]
    }
   ],
   "source": [
    "nama = \"Tutorial Bahasa Pemrograman Python\"\n",
    "print(nama[0:6])\n",
    "print(nama[20:30])"
   ]
  },
  {
   "cell_type": "code",
   "execution_count": 78,
   "metadata": {},
   "outputs": [
    {
     "name": "stdout",
     "output_type": "stream",
     "text": [
      "T\n",
      "u\n",
      "t\n",
      "o\n",
      "r\n",
      "i\n",
      "a\n",
      "l\n",
      " \n",
      "B\n",
      "a\n",
      "h\n",
      "a\n",
      "s\n",
      "a\n",
      " \n",
      "P\n",
      "e\n",
      "m\n",
      "r\n",
      "o\n",
      "g\n",
      "r\n",
      "a\n",
      "m\n",
      "a\n",
      "n\n",
      " \n",
      "P\n",
      "y\n",
      "t\n",
      "h\n",
      "o\n",
      "n\n"
     ]
    }
   ],
   "source": [
    "for n in nama:\n",
    "    print(n)"
   ]
  },
  {
   "cell_type": "markdown",
   "metadata": {},
   "source": [
    "### 5.2 Merubah String menjadi list Kata"
   ]
  },
  {
   "cell_type": "code",
   "execution_count": 94,
   "metadata": {},
   "outputs": [
    {
     "name": "stdout",
     "output_type": "stream",
     "text": [
      "['Tutorial', 'Bahasa', 'Pemrograman', 'Python']\n",
      "Tutorial\n",
      "Pemrograman\n",
      "['Pada hari minggu kuturut ayah ke kota', ' Naik Delman istimewa kududuk di muka', ' Duduk disamping pak kusir yang sedang bekerja']\n",
      " Duduk disamping pak kusir yang sedang bekerja\n"
     ]
    }
   ],
   "source": [
    "kata = nama.split() #split kosong = spasi\n",
    "print(kata)\n",
    "print(kata[0])\n",
    "print(kata[2])\n",
    "\n",
    "paragraf = \"Pada hari minggu kuturut ayah ke kota. Naik Delman istimewa kududuk di muka. Duduk disamping pak kusir yang sedang bekerja\"\n",
    "kalimat = paragraf.split(\".\")\n",
    "print(kalimat)\n",
    "print(kalimat[2])"
   ]
  },
  {
   "cell_type": "markdown",
   "metadata": {},
   "source": [
    "### 5.3 Pencarian kata dalam String"
   ]
  },
  {
   "cell_type": "code",
   "execution_count": 86,
   "metadata": {},
   "outputs": [
    {
     "name": "stdout",
     "output_type": "stream",
     "text": [
      "Found!\n"
     ]
    }
   ],
   "source": [
    "cari = 'Python'\n",
    "if cari in nama:\n",
    "    print(\"Found!\")\n",
    "else:\n",
    "    print(\"Not Found!\")"
   ]
  },
  {
   "cell_type": "code",
   "execution_count": 105,
   "metadata": {},
   "outputs": [
    {
     "name": "stdout",
     "output_type": "stream",
     "text": [
      "Found!\n",
      "1\n"
     ]
    }
   ],
   "source": [
    "aa = \"ABBCDEFG ABAB\"\n",
    "cari2 = 'AB'\n",
    "cnt = 0\n",
    "if cari2 in aa:\n",
    "    cnt += 1\n",
    "    print(\"Found!\")\n",
    "else:\n",
    "    print(\"Not Found!\")\n",
    "print(cnt)\n"
   ]
  },
  {
   "cell_type": "markdown",
   "metadata": {},
   "source": [
    "### 5.4 Replace String"
   ]
  },
  {
   "cell_type": "code",
   "execution_count": 87,
   "metadata": {},
   "outputs": [
    {
     "name": "stdout",
     "output_type": "stream",
     "text": [
      "Pada hari senin kuturut ibu ke kota. Naik Delman istimewa kududuk di muka. Duduk disamping pak kusir yang sedang bekerja\n"
     ]
    }
   ],
   "source": [
    "paragraf = \"Pada hari minggu kuturut ayah ke kota. Naik Delman istimewa kududuk di muka. Duduk disamping pak kusir yang sedang bekerja\"\n",
    "paragraf = paragraf.replace('minggu','senin')\n",
    "paragraf = paragraf.replace('ayah','ibu')\n",
    "print(paragraf)"
   ]
  },
  {
   "cell_type": "markdown",
   "metadata": {},
   "source": [
    "### 5.5 Panjang String, Lowercase, Uppercase"
   ]
  },
  {
   "cell_type": "code",
   "execution_count": 91,
   "metadata": {},
   "outputs": [
    {
     "name": "stdout",
     "output_type": "stream",
     "text": [
      "34\n",
      "TUTORIAL BAHASA PEMROGRAMAN PYTHON\n",
      "tutorial bahasa pemrograman python\n"
     ]
    }
   ],
   "source": [
    "print(len(nama))\n",
    "print(nama.upper())\n",
    "print(nama.lower())"
   ]
  },
  {
   "cell_type": "markdown",
   "metadata": {},
   "source": [
    "# LATIHAN 2¶\n",
    "Diberikan sekumpulan Nilai Random antara 0 sampai dengan 100 sebanyak 250 nilai. Buatlah program untuk melakukan hal berikut:\n",
    "\n",
    "Tampilkan Angka Ganjil dari ke 50 nilai tersebut\n",
    "\n",
    "Tampilkan berapa banyak yang mendapatkan nilai lebih dari 70\n",
    "\n",
    "Tampilkan standar deviasi dari sekumpulan nilai tersebut\n",
    "\n",
    "Tampilkan nilai maksimum dan minimum\n",
    "\n",
    "Tampilkan modus dari sekumpulan nilai tersebut"
   ]
  },
  {
   "cell_type": "code",
   "execution_count": 116,
   "metadata": {},
   "outputs": [
    {
     "name": "stdout",
     "output_type": "stream",
     "text": [
      "[4, 33, 90, 17, 53, 40, 62, 91, 90, 19, 61, 49, 45, 29, 17, 24, 67, 93, 15, 13, 84, 92, 39, 90, 47, 83, 20, 98, 90, 84, 49, 29, 46, 80, 40, 48, 90, 19, 16, 66, 61, 76, 87, 54, 86, 54, 60, 13, 22, 46, 30, 71, 33, 32, 20, 56, 94, 16, 79, 61, 83, 10, 56, 58, 84, 43, 3, 71, 97, 83, 94, 14, 50, 50, 77, 50, 41, 45, 8, 16, 27, 34, 3, 25, 52, 37, 24, 11, 83, 12, 92, 93, 85, 96, 63, 54, 67, 20, 16, 35, 99, 22, 99, 13, 19, 99, 90, 70, 37, 16, 33, 8, 30, 68, 47, 70, 2, 55, 87, 71, 53, 80, 89, 70, 20, 23, 66, 50, 94, 53, 34, 20, 7, 85, 15, 56, 61, 45, 33, 61, 32, 85, 44, 5, 14, 62, 7, 8, 71, 71, 23, 1, 2, 64, 37, 34, 8, 15, 21, 67, 37, 92, 78, 32, 4, 97, 84, 9, 12, 20, 94, 90, 97, 13, 91, 60, 40, 51, 72, 34, 54, 48, 6, 2, 77, 44, 46, 3, 15, 34, 96, 81, 6, 15, 84, 51, 28, 97, 35, 71, 80, 11, 96, 57, 14, 47, 5, 7, 58, 78, 36, 91, 34, 53, 27, 77, 76, 6, 13, 86, 24, 88, 77, 39, 5, 33, 51, 4, 94, 88, 23, 79, 32, 80, 58, 36, 93, 51, 72, 36, 53, 24, 46, 82, 2, 85, 89, 68, 44, 9]\n",
      "[33, 17, 53, 91, 19, 61, 49, 45, 29, 17, 67, 93, 15, 13, 39, 47, 83, 49, 29, 19, 61, 87, 13, 71, 33, 79, 61, 83, 43, 3, 71, 97, 83, 77, 41, 45, 27, 3, 25, 37, 11, 83, 93, 85, 63, 67, 35, 99, 99, 13, 19, 99, 37, 33, 47, 55, 87, 71, 53, 89, 23, 53, 7, 85, 15, 61, 45, 33, 61, 85, 5, 7, 71, 71, 23, 1, 37, 15, 21, 67, 37, 97, 9, 97, 13, 91, 51, 77, 3, 15, 81, 15, 51, 97, 35, 71, 11, 57, 47, 5, 7, 91, 53, 27, 77, 13, 77, 39, 5, 33, 51, 23, 79, 93, 51, 53, 85, 89, 9]\n",
      "[90, 91, 90, 93, 84, 92, 90, 83, 98, 90, 84, 80, 90, 76, 87, 86, 71, 94, 79, 83, 84, 71, 97, 83, 94, 77, 83, 92, 93, 85, 96, 99, 99, 99, 90, 87, 71, 80, 89, 94, 85, 85, 71, 71, 92, 78, 97, 84, 94, 90, 97, 91, 72, 77, 96, 81, 84, 97, 71, 80, 96, 78, 91, 77, 76, 86, 88, 77, 94, 88, 79, 80, 93, 72, 82, 85, 89]\n",
      "99\n",
      "1\n"
     ]
    }
   ],
   "source": [
    "#Tugas List Nilai\n",
    "import random\n",
    "\n",
    "# GENERATE RANDOM\n",
    "nilaiTugas = []\n",
    "for i in range(250):\n",
    "    nilaiTugas.append(random.randrange(1,100,1))\n",
    "\n",
    "print(nilaiTugas)\n",
    "\n",
    "# TAMPILKAN:\n",
    "# ganjil\n",
    "# nilai > 70\n",
    "ganjil = []\n",
    "lt70 = []\n",
    "for n in nilaiTugas:\n",
    "    if (n%2 !=0):\n",
    "        ganjil.append(n)\n",
    "    if (n > 70):\n",
    "        lt70.append(n)\n",
    "    \n",
    "print(ganjil)\n",
    "print(lt70)\n",
    "\n",
    "# standar deviasi\n",
    "# maksimum\n",
    "print(max(nilaiTugas))\n",
    "# minimum\n",
    "print(min(nilaiTugas))\n",
    "# modus"
   ]
  },
  {
   "cell_type": "code",
   "execution_count": 117,
   "metadata": {},
   "outputs": [],
   "source": [
    "#Tugas Word Count"
   ]
  },
  {
   "cell_type": "code",
   "execution_count": null,
   "metadata": {},
   "outputs": [],
   "source": []
  }
 ],
 "metadata": {
  "kernelspec": {
   "display_name": "Python 3",
   "language": "python",
   "name": "python3"
  },
  "language_info": {
   "codemirror_mode": {
    "name": "ipython",
    "version": 3
   },
   "file_extension": ".py",
   "mimetype": "text/x-python",
   "name": "python",
   "nbconvert_exporter": "python",
   "pygments_lexer": "ipython3",
   "version": "3.7.0"
  }
 },
 "nbformat": 4,
 "nbformat_minor": 2
}
