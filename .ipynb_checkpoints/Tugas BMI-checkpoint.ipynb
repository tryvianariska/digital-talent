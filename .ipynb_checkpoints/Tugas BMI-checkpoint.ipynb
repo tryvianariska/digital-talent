{
 "cells": [
  {
   "cell_type": "markdown",
   "metadata": {},
   "source": [
    "### Kalkulator untuk mengetahui kategori BMI berdasarkan berat badan dan tinggi badan\n",
    "\n",
    "Author: Tryviana Yusriska S\n",
    "Kelas: Big Data-A\n",
    "\n",
    "    nilai BMI = berat badan (dalam kg) / tinggi badan^2 (dalam m)\n",
    "    Berikut adalah kategorisasi BMI\n",
    "    \n",
    "    | BMI                  | Kategori BMI              |  \n",
    "    |----------------------|---------------------------|\n",
    "    | Kurang dari 15       | Very severely underweight |  \n",
    "    | Diantara 15 dan 16   | Severely underweight      | \n",
    "    | Diantara 16 dan 18.5 | Underweight               |\n",
    "    | Diantara 18.5 dan 25 | Normal (healthy weight)   |\n",
    "    | Diantara 25 dan 30   | Overweight                |\n",
    "    | Diantara 30 dan 35   | Moderately obese          |\n",
    "    | Diantara 35 dan 40   | Severely obese            |\n",
    "    | Over 40      "
   ]
  },
  {
   "cell_type": "code",
   "execution_count": 2,
   "metadata": {},
   "outputs": [],
   "source": [
    "#fungsi untuk mendapatkan kategori BMI\n",
    "#asumsi: \n",
    "\n",
    "#input: (weight,height) yaitu (berat badan [dalam satuan kg],tinggi badan [dalam satuan m])\n",
    "#output: kategori BMI\n",
    "def getBMIcat(weight,height):\n",
    "    BMI = weight / (height**2)\n",
    "    category =  ''\n",
    "    if BMI   <15    : category = 'Very severely underweight'\n",
    "    elif BMI <=16 : category = 'Severely underweight'\n",
    "    elif BMI <=18.5 : category = 'Underweight'\n",
    "    elif BMI <=25 : category = 'Normal (healthy weight)'\n",
    "    elif BMI <=30 : category = 'Overweight'\n",
    "    elif BMI <=35 : category = 'Moderately obese'\n",
    "    elif BMI <=40 : category = 'Severely obese'\n",
    "    else : category = 'Very severely obese' #bmi > 40\n",
    "    \n",
    "    return category"
   ]
  },
  {
   "cell_type": "code",
   "execution_count": 3,
   "metadata": {},
   "outputs": [
    {
     "name": "stdout",
     "output_type": "stream",
     "text": [
      "Normal (healthy weight)\n"
     ]
    }
   ],
   "source": [
    "#contoh pemanggilan fungsi\n",
    "print(getBMIcat(60,1.7))"
   ]
  },
  {
   "cell_type": "code",
   "execution_count": 5,
   "metadata": {},
   "outputs": [
    {
     "data": {
      "text/plain": [
       "'Normal (healthy weight)'"
      ]
     },
     "execution_count": 5,
     "metadata": {},
     "output_type": "execute_result"
    }
   ],
   "source": [
    "#atau\n",
    "getBMIcat(60,1.7)"
   ]
  },
  {
   "cell_type": "code",
   "execution_count": null,
   "metadata": {},
   "outputs": [],
   "source": []
  }
 ],
 "metadata": {
  "kernelspec": {
   "display_name": "Python 3",
   "language": "python",
   "name": "python3"
  },
  "language_info": {
   "codemirror_mode": {
    "name": "ipython",
    "version": 3
   },
   "file_extension": ".py",
   "mimetype": "text/x-python",
   "name": "python",
   "nbconvert_exporter": "python",
   "pygments_lexer": "ipython3",
   "version": "3.7.0"
  }
 },
 "nbformat": 4,
 "nbformat_minor": 2
}
