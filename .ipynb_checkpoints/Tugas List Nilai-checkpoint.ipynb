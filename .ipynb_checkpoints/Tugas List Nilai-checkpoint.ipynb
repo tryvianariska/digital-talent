{
 "cells": [
  {
   "cell_type": "markdown",
   "metadata": {},
   "source": [
    "# LATIHAN 2¶\n",
    "Diberikan sekumpulan Nilai Random antara 0 sampai dengan 100 sebanyak 250 nilai. Buatlah program untuk melakukan hal berikut:\n",
    "\n",
    "Tampilkan Angka Ganjil dari ke 50 nilai tersebut\n",
    "\n",
    "Tampilkan berapa banyak yang mendapatkan nilai lebih dari 70\n",
    "\n",
    "Tampilkan standar deviasi dari sekumpulan nilai tersebut\n",
    "\n",
    "Tampilkan nilai maksimum dan minimum\n",
    "\n",
    "Tampilkan modus dari sekumpulan nilai tersebut"
   ]
  },
  {
   "cell_type": "code",
   "execution_count": 1,
   "metadata": {},
   "outputs": [
    {
     "name": "stdout",
     "output_type": "stream",
     "text": [
      "[22, 95, 68, 64, 5, 24, 12, 35, 56, 28, 27, 50, 88, 55, 85, 45, 59, 52, 90, 12, 48, 23, 18, 91, 50, 56, 1, 74, 75, 43, 77, 63, 46, 54, 15, 51, 78, 34, 24, 22, 91, 44, 68, 46, 26, 11, 38, 90, 14, 80, 87, 18, 73, 10, 22, 31, 26, 16, 91, 99, 13, 51, 7, 51, 79, 53, 34, 82, 78, 43, 63, 10, 56, 47, 76, 39, 35, 77, 56, 10, 75, 69, 69, 38, 7, 68, 10, 4, 54, 11, 93, 33, 46, 37, 55, 90, 27, 83, 17, 19, 81, 35, 49, 42, 48, 66, 43, 52, 96, 95, 52, 89, 46, 64, 13, 58, 98, 22, 41, 45, 18, 45, 69, 40, 97, 63, 56, 42, 72, 19, 26, 49, 94, 72, 93, 55, 86, 89, 57, 58, 38, 43, 72, 99, 31, 15, 2, 41, 63, 32, 17, 68, 73, 18, 7, 73, 93, 25, 62, 82, 88, 89, 43, 13, 30, 28, 28, 38, 77, 32, 83, 3, 24, 30, 9, 23, 58, 90, 11, 90, 28, 8, 53, 93, 82, 87, 98, 17, 57, 75, 9, 9, 33, 24, 40, 16, 29, 1, 2, 99, 98, 14, 10, 29, 45, 29, 67, 50, 99, 90, 8, 45, 42, 47, 25, 66, 40, 55, 1, 45, 22, 18, 37, 14, 51, 34, 8, 40, 46, 32, 61, 81, 26, 11, 84, 14, 18, 89, 2, 25, 37, 84, 3, 44, 44, 56, 1, 49, 88, 66]\n",
      "[95, 5, 35, 27, 55, 85, 45, 59, 23, 91, 1, 75, 43, 77, 63, 15, 51, 91, 11, 87, 73, 31, 91, 99, 13, 51, 7, 51, 79, 53, 43, 63, 47, 39, 35, 77, 75, 69, 69, 7, 11, 93, 33, 37, 55, 27, 83, 17, 19, 81, 35, 49, 43, 95, 89, 13, 41, 45, 45, 69, 97, 63, 19, 49, 93, 55, 89, 57, 43, 99, 31, 15, 41, 63, 17, 73, 7, 73, 93, 25, 89, 43, 13, 77, 83, 3, 9, 23, 11, 53, 93, 87, 17, 57, 75, 9, 9, 33, 29, 1, 99, 29, 45, 29, 67, 99, 45, 47, 25, 55, 1, 45, 37, 51, 61, 81, 11, 89, 25, 37, 3, 1, 49]\n",
      "[95, 88, 85, 90, 91, 74, 75, 77, 78, 91, 90, 80, 87, 73, 91, 99, 79, 82, 78, 76, 77, 75, 93, 90, 83, 81, 96, 95, 89, 98, 97, 72, 94, 72, 93, 86, 89, 72, 99, 73, 73, 93, 82, 88, 89, 77, 83, 90, 90, 93, 82, 87, 98, 75, 99, 98, 99, 90, 81, 84, 89, 84, 88]\n",
      "99\n",
      "1\n"
     ]
    }
   ],
   "source": [
    "import random\n",
    "\n",
    "# GENERATE RANDOM\n",
    "nilaiTugas = []\n",
    "for i in range(250):\n",
    "    nilaiTugas.append(random.randrange(1,100,1))\n",
    "\n",
    "print(nilaiTugas)\n",
    "\n",
    "# TAMPILKAN:\n",
    "# ganjil\n",
    "# nilai > 70\n",
    "ganjil = []\n",
    "lt70 = []\n",
    "for n in nilaiTugas:\n",
    "    if (n%2 !=0):\n",
    "        ganjil.append(n)\n",
    "    if (n > 70):\n",
    "        lt70.append(n)\n",
    "    \n",
    "print(ganjil)\n",
    "print(lt70)\n",
    "\n",
    "# standar deviasi\n",
    "# maksimum\n",
    "print(max(nilaiTugas))\n",
    "# minimum\n",
    "print(min(nilaiTugas))\n",
    "# modus"
   ]
  },
  {
   "cell_type": "code",
   "execution_count": null,
   "metadata": {},
   "outputs": [],
   "source": []
  }
 ],
 "metadata": {
  "kernelspec": {
   "display_name": "Python 3",
   "language": "python",
   "name": "python3"
  },
  "language_info": {
   "codemirror_mode": {
    "name": "ipython",
    "version": 3
   },
   "file_extension": ".py",
   "mimetype": "text/x-python",
   "name": "python",
   "nbconvert_exporter": "python",
   "pygments_lexer": "ipython3",
   "version": "3.7.0"
  }
 },
 "nbformat": 4,
 "nbformat_minor": 2
}
