{
 "cells": [
  {
   "cell_type": "markdown",
   "metadata": {},
   "source": [
    "### Kalkulator untuk mengetahui kategori BMI berdasarkan berat badan dan tinggi badan\n",
    "\n",
    "Author: Tryviana Yusriska S\n",
    "Kelas: Big Data-A\n",
    "\n",
    "    nilai BMI = berat badan (dalam kg) / tinggi badan^2 (dalam m)\n",
    "    Berikut adalah kategorisasi BMI\n",
    "    \n",
    "    | BMI                  | Kategori BMI              |  \n",
    "    |----------------------|---------------------------|\n",
    "    | Kurang dari 15       | Very severely underweight |  \n",
    "    | Diantara 15 dan 16   | Severely underweight      | \n",
    "    | Diantara 16 dan 18.5 | Underweight               |\n",
    "    | Diantara 18.5 dan 25 | Normal (healthy weight)   |\n",
    "    | Diantara 25 dan 30   | Overweight                |\n",
    "    | Diantara 30 dan 35   | Moderately obese          |\n",
    "    | Diantara 35 dan 40   | Severely obese            |\n",
    "    | Over 40      "
   ]
  },
  {
   "cell_type": "code",
   "execution_count": 6,
   "metadata": {},
   "outputs": [],
   "source": [
    "#fungsi untuk mendapatkan kategori BMI\n",
    "#asumsi: \n",
    "\n",
    "#input: (weight,height) yaitu (berat badan [dalam satuan kg],tinggi badan [dalam satuan cm])\n",
    "#output: kategori BMI\n",
    "def getBMIcat(weight,height):\n",
    "    height_m = height / 100 #ubah ke satuan meter\n",
    "    BMI = weight / (height_m **2)\n",
    "    category =  ''\n",
    "    if BMI   <15    : category = 'Very severely underweight'\n",
    "    elif BMI <=16 : category = 'Severely underweight'\n",
    "    elif BMI <=18.5 : category = 'Underweight'\n",
    "    elif BMI <=25 : category = 'Normal (healthy weight)'\n",
    "    elif BMI <=30 : category = 'Overweight'\n",
    "    elif BMI <=35 : category = 'Moderately obese'\n",
    "    elif BMI <=40 : category = 'Severely obese'\n",
    "    else : category = 'Very severely obese' #bmi > 40\n",
    "    \n",
    "    return category"
   ]
  },
  {
   "cell_type": "code",
   "execution_count": 7,
   "metadata": {},
   "outputs": [
    {
     "name": "stdout",
     "output_type": "stream",
     "text": [
      "Input your weight (in kg):60\n",
      "Input your height (in cm):160\n",
      "Normal (healthy weight)\n"
     ]
    }
   ],
   "source": [
    "#get input from user\n",
    "weight_input = float(input(\"Input your weight (in kg):\"))\n",
    "height_input = float(input(\"Input your height (in cm):\"))\n",
    "print(getBMIcat(weight_input,height_input))"
   ]
  },
  {
   "cell_type": "code",
   "execution_count": null,
   "metadata": {},
   "outputs": [],
   "source": []
  }
 ],
 "metadata": {
  "kernelspec": {
   "display_name": "Python 3",
   "language": "python",
   "name": "python3"
  },
  "language_info": {
   "codemirror_mode": {
    "name": "ipython",
    "version": 3
   },
   "file_extension": ".py",
   "mimetype": "text/x-python",
   "name": "python",
   "nbconvert_exporter": "python",
   "pygments_lexer": "ipython3",
   "version": "3.7.0"
  }
 },
 "nbformat": 4,
 "nbformat_minor": 2
}
