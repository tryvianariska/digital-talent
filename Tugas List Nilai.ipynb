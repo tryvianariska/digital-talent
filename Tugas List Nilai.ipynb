{
 "cells": [
  {
   "cell_type": "markdown",
   "metadata": {},
   "source": [
    "# LATIHAN 2¶\n",
    "\n",
    "Author: Tryviana Yusriska S - Big Data A\n",
    "Diberikan sekumpulan Nilai Random antara 0 sampai dengan 100 sebanyak 250 nilai. Buatlah program untuk melakukan hal berikut:\n",
    "\n",
    "Tampilkan Angka Ganjil dari ke 50 nilai tersebut\n",
    "\n",
    "Tampilkan berapa banyak yang mendapatkan nilai lebih dari 70\n",
    "\n",
    "Tampilkan standar deviasi dari sekumpulan nilai tersebut\n",
    "\n",
    "Tampilkan nilai maksimum dan minimum\n",
    "\n",
    "Tampilkan modus dari sekumpulan nilai tersebut"
   ]
  },
  {
   "cell_type": "code",
   "execution_count": 41,
   "metadata": {},
   "outputs": [
    {
     "name": "stdout",
     "output_type": "stream",
     "text": [
      "nilaiTugas\n",
      " [13, 8, 85, 39, 73, 38, 27, 72, 64, 88, 80, 15, 8, 85, 20, 97, 90, 7, 16, 34, 83, 88, 5, 5, 58, 78, 91, 92, 80, 26, 53, 81, 96, 88, 19, 83, 17, 11, 38, 7, 34, 28, 86, 56, 73, 33, 16, 65, 76, 85, 51, 66, 90, 82, 57, 83, 58, 34, 90, 36, 65, 9, 52, 19, 37, 42, 30, 78, 39, 80, 57, 86, 21, 85, 99, 34, 96, 66, 68, 44, 41, 9, 40, 35, 43, 77, 42, 81, 86, 53, 81, 1, 89, 27, 90, 68, 94, 97, 90, 40, 84, 47, 73, 54, 47, 36, 1, 16, 1, 82, 85, 93, 44, 66, 7, 14, 8, 61, 84, 84, 23, 20, 42, 84, 15, 35, 3, 4, 6, 71, 98, 95, 59, 92, 28, 94, 81, 1, 27, 10, 16, 54, 11, 61, 29, 13, 77, 85, 89, 2, 15, 93, 99, 32, 12, 7, 17, 54, 31, 16, 48, 16, 69, 89, 7, 80, 93, 37, 34, 53, 61, 19, 87, 76, 20, 38, 62, 99, 25, 87, 92, 52, 58, 46, 78, 41, 25, 31, 41, 59, 87, 82, 21, 41, 5, 52, 98, 38, 54, 50, 4, 40, 27, 85, 98, 5, 73, 94, 15, 17, 37, 32, 58, 65, 36, 57, 35, 19, 13, 20, 70, 66, 48, 29, 38, 64, 7, 53, 88, 25, 95, 36, 47, 93, 84, 26, 2, 35, 79, 25, 99, 56, 87, 60, 68, 53, 9, 43, 81, 37]\n",
      "\n",
      "Tampilkan Angka Ganjil dari ke 50 nilai tersebut\n",
      " [13, 85, 39, 73, 27, 15, 85, 97, 7, 83, 5, 5, 91, 53, 81, 19, 83, 17, 11, 7, 73, 33, 65, 85, 51, 57, 83, 65, 9, 19, 37, 39, 57, 21, 85, 99, 41, 9, 35, 43, 77, 81, 53, 81, 1, 89, 27, 97, 47, 73, 47, 1, 1, 85, 93, 7, 61, 23, 15, 35, 3, 71, 95, 59, 81, 1, 27, 11, 61, 29, 13, 77, 85, 89, 15, 93, 99, 7, 17, 31, 69, 89, 7, 93, 37, 53, 61, 19, 87, 99, 25, 87, 41, 25, 31, 41, 59, 87, 21, 41, 5, 27, 85, 5, 73, 15, 17, 37, 65, 57, 35, 19, 13, 29, 7, 53, 25, 95, 47, 93, 35, 79, 25, 99, 87, 53, 9, 43, 81, 37]\n",
      "\n",
      "Tampilkan berapa banyak yang mendapatkan nilai lebih dari 70\n",
      " [85, 73, 72, 88, 80, 85, 97, 90, 83, 88, 78, 91, 92, 80, 81, 96, 88, 83, 86, 73, 76, 85, 90, 82, 83, 90, 78, 80, 86, 85, 99, 96, 77, 81, 86, 81, 89, 90, 94, 97, 90, 84, 73, 82, 85, 93, 84, 84, 84, 71, 98, 95, 92, 94, 81, 77, 85, 89, 93, 99, 89, 80, 93, 87, 76, 99, 87, 92, 78, 87, 82, 98, 85, 98, 73, 94, 88, 95, 93, 84, 79, 99, 87, 81]\n",
      "\n",
      "Tampilkan standar deviasi dari sekumpulan nilai tersebut\n",
      " 29.98663691670504\n",
      "\n",
      "Tampilkan nilai maksimum dan minimum\n",
      " nilai maksimum\t 99 \n",
      "nilai minimum\t 1\n",
      "\n",
      "Tampilkan modus dari sekumpulan nilai tersebut\n",
      " 85\n"
     ]
    }
   ],
   "source": [
    "import random\n",
    "\n",
    "# GENERATE RANDOM\n",
    "nilaiTugas = []\n",
    "for i in range(250):\n",
    "    nilaiTugas.append(random.randrange(1,100,1))\n",
    "\n",
    "print(\"nilaiTugas\\n\",nilaiTugas)\n",
    "\n",
    "\n",
    "ganjil = [] #ganjil\n",
    "gt70 = [] #lebih besar dari 70\n",
    "nilaiMax = 0 #nilai max\n",
    "nilaiMin = 100 #nilai min\n",
    "sigma = 0 #sigma (digunakan untuk std deviasi)\n",
    "occurence = {} #kemunculan nilai (digunakan untuk mencari modus)\n",
    "\n",
    "nilaiTotal = 0\n",
    "for n in nilaiTugas:\n",
    "    nilaiTotal = nilaiTotal + n\n",
    "    \n",
    "rata = nilaiTotal / len(nilaiTugas)\n",
    "\n",
    "for n in nilaiTugas:\n",
    "    if (n%2 !=0):\n",
    "        ganjil.append(n)\n",
    "    if (n > 70):\n",
    "        gt70.append(n)\n",
    "    if (n > nilaiMax):\n",
    "        nilaiMax = n\n",
    "    if (n < nilaiMin):\n",
    "        nilaiMin = n\n",
    "    if n in occurence:\n",
    "        occurence[n] += 1\n",
    "    else:\n",
    "        occurence[n] = 1\n",
    "    sigma = sigma + (n-rata)**2\n",
    "        \n",
    "standarDeviasi = (sigma/(len(nilaiTugas)-1)) ** 0.5\n",
    "\n",
    "modus = 0\n",
    "maxOccurence = 0\n",
    "for k,v in occurence.items(): #iterate item, value\n",
    "    if v > maxOccurence:\n",
    "        maxOccurence = v\n",
    "        modus = k\n",
    "    \n",
    "print(\"\\nTampilkan Angka Ganjil dari ke 50 nilai tersebut\\n\",ganjil)\n",
    "print(\"\\nTampilkan berapa banyak yang mendapatkan nilai lebih dari 70\\n\",gt70)\n",
    "print(\"\\nTampilkan standar deviasi dari sekumpulan nilai tersebut\\n\",standarDeviasi)\n",
    "print(\"\\nTampilkan nilai maksimum dan minimum\\n\",\"nilai maksimum\\t\",nilaiMax,\"\\nnilai minimum\\t\",nilaiMin)\n",
    "print(\"\\nTampilkan modus dari sekumpulan nilai tersebut\\n\", modus)\n",
    "\n"
   ]
  },
  {
   "cell_type": "code",
   "execution_count": null,
   "metadata": {},
   "outputs": [],
   "source": []
  }
 ],
 "metadata": {
  "kernelspec": {
   "display_name": "Python 3",
   "language": "python",
   "name": "python3"
  },
  "language_info": {
   "codemirror_mode": {
    "name": "ipython",
    "version": 3
   },
   "file_extension": ".py",
   "mimetype": "text/x-python",
   "name": "python",
   "nbconvert_exporter": "python",
   "pygments_lexer": "ipython3",
   "version": "3.7.0"
  }
 },
 "nbformat": 4,
 "nbformat_minor": 2
}
