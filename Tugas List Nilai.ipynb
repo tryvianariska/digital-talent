{
 "cells": [
  {
   "cell_type": "markdown",
   "metadata": {},
   "source": [
    "# LATIHAN 2¶\n",
    "Diberikan sekumpulan Nilai Random antara 0 sampai dengan 100 sebanyak 250 nilai. Buatlah program untuk melakukan hal berikut:\n",
    "\n",
    "Tampilkan Angka Ganjil dari ke 50 nilai tersebut\n",
    "\n",
    "Tampilkan berapa banyak yang mendapatkan nilai lebih dari 70\n",
    "\n",
    "Tampilkan standar deviasi dari sekumpulan nilai tersebut\n",
    "\n",
    "Tampilkan nilai maksimum dan minimum\n",
    "\n",
    "Tampilkan modus dari sekumpulan nilai tersebut"
   ]
  },
  {
   "cell_type": "code",
   "execution_count": 39,
   "metadata": {},
   "outputs": [
    {
     "name": "stdout",
     "output_type": "stream",
     "text": [
      "nilaiTugas\n",
      " [25, 94, 74, 7, 87, 27, 38, 42, 59, 31, 71, 34, 14, 27, 83, 34, 97, 2, 10, 76, 30, 97, 13, 51, 24, 40, 80, 44, 5, 44, 47, 69, 51, 99, 59, 47, 15, 51, 22, 83, 32, 31, 9, 37, 35, 94, 92, 71, 8, 57, 52, 27, 32, 48, 62, 1, 61, 35, 37, 42, 72, 81, 44, 45, 3, 59, 23, 76, 45, 56, 64, 51, 81, 8, 64, 35, 91, 71, 27, 91, 72, 35, 41, 73, 68, 13, 49, 46, 92, 87, 80, 33, 6, 71, 26, 31, 42, 19, 29, 43, 22, 44, 82, 53, 57, 56, 68, 73, 69, 61, 91, 57, 48, 16, 98, 48, 74, 22, 45, 24, 61, 15, 38, 98, 15, 30, 63, 71, 48, 65, 82, 58, 76, 57, 40, 56, 43, 28, 22, 99, 78, 15, 25, 20, 2, 98, 10, 31, 34, 41, 30, 53, 29, 38, 95, 52, 86, 82, 81, 12, 9, 92, 3, 11, 46, 21, 5, 24, 94, 49, 66, 70, 41, 90, 8, 72, 72, 73, 93, 88, 33, 23, 44, 40, 45, 31, 75, 80, 13, 73, 43, 76, 11, 10, 39, 14, 44, 90, 60, 65, 30, 95, 52, 49, 89, 7, 63, 98, 48, 96, 45, 36, 28, 48, 72, 57, 84, 95, 64, 43, 16, 97, 70, 70, 11, 63, 88, 96, 73, 33, 99, 10, 65, 20, 57, 2, 10, 97, 60, 85, 35, 99, 40, 30, 78, 88, 42, 2, 21, 11]\n",
      "\n",
      "Tampilkan Angka Ganjil dari ke 50 nilai tersebut\n",
      " [25, 7, 87, 27, 59, 31, 71, 27, 83, 97, 97, 13, 51, 5, 47, 69, 51, 99, 59, 47, 15, 51, 83, 31, 9, 37, 35, 71, 57, 27, 1, 61, 35, 37, 81, 45, 3, 59, 23, 45, 51, 81, 35, 91, 71, 27, 91, 35, 41, 73, 13, 49, 87, 33, 71, 31, 19, 29, 43, 53, 57, 73, 69, 61, 91, 57, 45, 61, 15, 15, 63, 71, 65, 57, 43, 99, 15, 25, 31, 41, 53, 29, 95, 81, 9, 3, 11, 21, 5, 49, 41, 73, 93, 33, 23, 45, 31, 75, 13, 73, 43, 11, 39, 65, 95, 49, 89, 7, 63, 45, 57, 95, 43, 97, 11, 63, 73, 33, 99, 65, 57, 97, 85, 35, 99, 21, 11]\n",
      "\n",
      "Tampilkan berapa banyak yang mendapatkan nilai lebih dari 70\n",
      " [94, 74, 87, 71, 83, 97, 76, 97, 80, 99, 83, 94, 92, 71, 72, 81, 76, 81, 91, 71, 91, 72, 73, 92, 87, 80, 71, 82, 73, 91, 98, 74, 98, 71, 82, 76, 99, 78, 98, 95, 86, 82, 81, 92, 94, 90, 72, 72, 73, 93, 88, 75, 80, 73, 76, 90, 95, 89, 98, 96, 72, 84, 95, 97, 88, 96, 73, 99, 97, 85, 99, 78, 88]\n",
      "\n",
      "Tampilkan standar deviasi dari sekumpulan nilai tersebut\n",
      " 27.773131681059915\n",
      "\n",
      "Tampilkan nilai maksimum dan minimum\n",
      " nilai maksimum\t 99 \n",
      "nilai minimum\t 1\n",
      "\n",
      "Tampilkan modus dari sekumpulan nilai tersebut\n",
      " 44\n"
     ]
    }
   ],
   "source": [
    "import random\n",
    "\n",
    "# GENERATE RANDOM\n",
    "nilaiTugas = []\n",
    "for i in range(250):\n",
    "    nilaiTugas.append(random.randrange(1,100,1))\n",
    "\n",
    "print(\"nilaiTugas\\n\",nilaiTugas)\n",
    "\n",
    "\n",
    "ganjil = [] #ganjil\n",
    "gt70 = [] #lebih besar dari 70\n",
    "nilaiMax = 0 #nilai max\n",
    "nilaiMin = 100 #nilai min\n",
    "sigma = 0 #sigma (digunakan untuk std deviasi)\n",
    "occurence = {} #kemunculan nilai (digunakan untuk mencari modus)\n",
    "\n",
    "nilaiTotal = 0\n",
    "for n in nilaiTugas:\n",
    "    nilaiTotal = nilaiTotal + n\n",
    "    \n",
    "rata = nilaiTotal / len(nilaiTugas)\n",
    "\n",
    "for n in nilaiTugas:\n",
    "    if (n%2 !=0):\n",
    "        ganjil.append(n)\n",
    "    if (n > 70):\n",
    "        gt70.append(n)\n",
    "    if (n > nilaiMax):\n",
    "        nilaiMax = n\n",
    "    if (n < nilaiMin):\n",
    "        nilaiMin = n\n",
    "    if n in occurence:\n",
    "        occurence[n] += 1\n",
    "    else:\n",
    "        occurence[n] = 1\n",
    "    sigma = sigma + (n-rata)**2\n",
    "        \n",
    "standarDeviasi = (sigma/(len(nilaiTugas)-1)) ** 0.5\n",
    "modus = 0\n",
    "maxOccurence = 0\n",
    "for k,v in occurence.items(): #iterate item, value\n",
    "    if v > maxOccurence:\n",
    "        maxOccurence = v\n",
    "        modus = k\n",
    "    \n",
    "print(\"\\nTampilkan Angka Ganjil dari ke 50 nilai tersebut\\n\",ganjil)\n",
    "print(\"\\nTampilkan berapa banyak yang mendapatkan nilai lebih dari 70\\n\",gt70)\n",
    "print(\"\\nTampilkan standar deviasi dari sekumpulan nilai tersebut\\n\",standarDeviasi)\n",
    "print(\"\\nTampilkan nilai maksimum dan minimum\\n\",\"nilai maksimum\\t\",nilaiMax,\"\\nnilai minimum\\t\",nilaiMin)\n",
    "print(\"\\nTampilkan modus dari sekumpulan nilai tersebut\\n\", modus)\n",
    "\n"
   ]
  },
  {
   "cell_type": "code",
   "execution_count": null,
   "metadata": {},
   "outputs": [],
   "source": []
  }
 ],
 "metadata": {
  "kernelspec": {
   "display_name": "Python 3",
   "language": "python",
   "name": "python3"
  },
  "language_info": {
   "codemirror_mode": {
    "name": "ipython",
    "version": 3
   },
   "file_extension": ".py",
   "mimetype": "text/x-python",
   "name": "python",
   "nbconvert_exporter": "python",
   "pygments_lexer": "ipython3",
   "version": "3.7.0"
  }
 },
 "nbformat": 4,
 "nbformat_minor": 2
}
