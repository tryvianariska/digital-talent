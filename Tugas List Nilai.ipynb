{
 "cells": [
  {
   "cell_type": "markdown",
   "metadata": {},
   "source": [
    "# LATIHAN 2¶\n",
    "\n",
    "Author: Tryviana Yusriska S - Big Data A\n",
    "\n",
    "Diberikan sekumpulan Nilai Random antara 0 sampai dengan 100 sebanyak 250 nilai. Buatlah program untuk melakukan hal berikut:\n",
    "\n",
    "Tampilkan Angka Ganjil dari ke 50 nilai tersebut\n",
    "\n",
    "Tampilkan berapa banyak yang mendapatkan nilai lebih dari 70\n",
    "\n",
    "Tampilkan standar deviasi dari sekumpulan nilai tersebut\n",
    "\n",
    "Tampilkan nilai maksimum dan minimum\n",
    "\n",
    "Tampilkan modus dari sekumpulan nilai tersebut"
   ]
  },
  {
   "cell_type": "code",
   "execution_count": 42,
   "metadata": {},
   "outputs": [
    {
     "name": "stdout",
     "output_type": "stream",
     "text": [
      "nilaiTugas\n",
      " [38, 91, 83, 19, 81, 17, 26, 89, 59, 42, 5, 33, 17, 86, 25, 93, 11, 3, 29, 80, 77, 54, 39, 10, 40, 86, 58, 50, 30, 52, 75, 86, 97, 79, 5, 1, 39, 85, 58, 55, 91, 63, 38, 32, 33, 91, 66, 73, 87, 7, 4, 36, 86, 7, 7, 36, 17, 45, 11, 28, 62, 42, 36, 54, 27, 89, 12, 92, 88, 58, 10, 74, 78, 6, 17, 5, 8, 88, 43, 75, 11, 21, 57, 23, 57, 53, 31, 31, 44, 62, 75, 35, 83, 85, 42, 31, 56, 92, 6, 68, 99, 28, 29, 81, 72, 99, 88, 24, 43, 50, 27, 3, 8, 12, 28, 90, 16, 62, 99, 8, 43, 18, 97, 42, 12, 52, 2, 73, 25, 2, 7, 78, 15, 71, 76, 16, 17, 15, 71, 45, 87, 93, 48, 89, 46, 35, 53, 71, 51, 55, 85, 35, 96, 21, 30, 8, 59, 80, 99, 56, 52, 62, 48, 30, 77, 57, 26, 9, 28, 36, 60, 10, 74, 29, 10, 67, 11, 40, 56, 64, 65, 95, 64, 75, 34, 27, 76, 44, 78, 40, 95, 16, 48, 83, 61, 19, 15, 34, 21, 29, 93, 7, 52, 11, 7, 33, 12, 45, 84, 96, 97, 22, 19, 27, 88, 49, 52, 70, 35, 65, 74, 37, 43, 71, 33, 77, 91, 23, 74, 57, 44, 13, 99, 56, 47, 20, 74, 96, 49, 7, 30, 97, 83, 37, 34, 46, 70, 30, 32, 37]\n",
      "\n",
      "Tampilkan Angka Ganjil dari ke 50 nilai tersebut\n",
      " [91, 83, 19, 81, 17, 89, 59, 5, 33, 17, 25, 93, 11, 3, 29, 77, 39, 75, 97, 79, 5, 1, 39, 85, 55, 91, 63, 33, 91, 73, 87, 7, 7, 7, 17, 45, 11, 27, 89, 17, 5, 43, 75, 11, 21, 57, 23, 57, 53, 31, 31, 75, 35, 83, 85, 31, 99, 29, 81, 99, 43, 27, 3, 99, 43, 97, 73, 25, 7, 15, 71, 17, 15, 71, 45, 87, 93, 89, 35, 53, 71, 51, 55, 85, 35, 21, 59, 99, 77, 57, 9, 29, 67, 11, 65, 95, 75, 27, 95, 83, 61, 19, 15, 21, 29, 93, 7, 11, 7, 33, 45, 97, 19, 27, 49, 35, 65, 37, 43, 71, 33, 77, 91, 23, 57, 13, 99, 47, 49, 7, 97, 83, 37, 37]\n",
      "\n",
      "Tampilkan berapa banyak yang mendapatkan nilai lebih dari 70\n",
      " [91, 83, 81, 89, 86, 93, 80, 77, 86, 75, 86, 97, 79, 85, 91, 91, 73, 87, 86, 89, 92, 88, 74, 78, 88, 75, 75, 83, 85, 92, 99, 81, 72, 99, 88, 90, 99, 97, 73, 78, 71, 76, 71, 87, 93, 89, 71, 85, 96, 80, 99, 77, 74, 95, 75, 76, 78, 95, 83, 93, 84, 96, 97, 88, 74, 71, 77, 91, 74, 99, 74, 96, 97, 83]\n",
      "\n",
      "Tampilkan standar deviasi dari sekumpulan nilai tersebut\n",
      " 28.74439522808078\n",
      "\n",
      "Tampilkan nilai maksimum dan minimum\n",
      " nilai maksimum\t 99 \n",
      "nilai minimum\t 1\n",
      "\n",
      "Tampilkan modus dari sekumpulan nilai tersebut\n",
      " 7\n"
     ]
    }
   ],
   "source": [
    "import random\n",
    "\n",
    "# GENERATE RANDOM\n",
    "nilaiTugas = []\n",
    "for i in range(250):\n",
    "    nilaiTugas.append(random.randrange(1,100,1))\n",
    "\n",
    "print(\"nilaiTugas\\n\",nilaiTugas)\n",
    "\n",
    "\n",
    "ganjil = [] #ganjil\n",
    "gt70 = [] #lebih besar dari 70\n",
    "nilaiMax = 0 #nilai max\n",
    "nilaiMin = 100 #nilai min\n",
    "sigma = 0 #sigma (digunakan untuk std deviasi)\n",
    "occurence = {} #kemunculan nilai (digunakan untuk mencari modus)\n",
    "\n",
    "nilaiTotal = 0\n",
    "for n in nilaiTugas:\n",
    "    nilaiTotal = nilaiTotal + n\n",
    "    \n",
    "rata = nilaiTotal / len(nilaiTugas)\n",
    "\n",
    "for n in nilaiTugas:\n",
    "    if (n%2 !=0):\n",
    "        ganjil.append(n)\n",
    "    if (n > 70):\n",
    "        gt70.append(n)\n",
    "    if (n > nilaiMax):\n",
    "        nilaiMax = n\n",
    "    if (n < nilaiMin):\n",
    "        nilaiMin = n\n",
    "    if n in occurence:\n",
    "        occurence[n] += 1\n",
    "    else:\n",
    "        occurence[n] = 1\n",
    "    sigma = sigma + (n-rata)**2\n",
    "        \n",
    "standarDeviasi = (sigma/(len(nilaiTugas)-1)) ** 0.5\n",
    "\n",
    "modus = 0\n",
    "maxOccurence = 0\n",
    "for k,v in occurence.items(): #iterate item, value\n",
    "    if v > maxOccurence:\n",
    "        maxOccurence = v\n",
    "        modus = k\n",
    "    \n",
    "print(\"\\nTampilkan Angka Ganjil dari ke 50 nilai tersebut\\n\",ganjil)\n",
    "print(\"\\nTampilkan berapa banyak yang mendapatkan nilai lebih dari 70\\n\",gt70)\n",
    "print(\"\\nTampilkan standar deviasi dari sekumpulan nilai tersebut\\n\",standarDeviasi)\n",
    "print(\"\\nTampilkan nilai maksimum dan minimum\\n\",\"nilai maksimum\\t\",nilaiMax,\"\\nnilai minimum\\t\",nilaiMin)\n",
    "print(\"\\nTampilkan modus dari sekumpulan nilai tersebut\\n\", modus)\n",
    "\n"
   ]
  },
  {
   "cell_type": "code",
   "execution_count": null,
   "metadata": {},
   "outputs": [],
   "source": []
  }
 ],
 "metadata": {
  "kernelspec": {
   "display_name": "Python 3",
   "language": "python",
   "name": "python3"
  },
  "language_info": {
   "codemirror_mode": {
    "name": "ipython",
    "version": 3
   },
   "file_extension": ".py",
   "mimetype": "text/x-python",
   "name": "python",
   "nbconvert_exporter": "python",
   "pygments_lexer": "ipython3",
   "version": "3.7.0"
  }
 },
 "nbformat": 4,
 "nbformat_minor": 2
}
